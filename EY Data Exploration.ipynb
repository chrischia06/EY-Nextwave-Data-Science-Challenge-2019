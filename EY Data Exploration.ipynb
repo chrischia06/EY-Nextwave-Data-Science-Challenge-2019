{
 "cells": [
  {
   "cell_type": "code",
   "execution_count": 1,
   "metadata": {},
   "outputs": [],
   "source": [
    "#libraries\n",
    "import numpy as np\n",
    "import pandas as pd\n",
    "import matplotlib.pyplot as plt\n",
    "\n",
    "#import metrics\n",
    "from sklearn.model_selection import cross_val_score\n",
    "from sklearn.metrics import f1_score\n",
    "pd.options.mode.chained_assignment = None\n",
    "\n",
    "\n",
    "#read csv files\n",
    "df = pd.read_csv(\"data_train.csv\")\n",
    "df2 = pd.read_csv(\"data_test.csv\")"
   ]
  },
  {
   "cell_type": "code",
   "execution_count": 2,
   "metadata": {
    "scrolled": true
   },
   "outputs": [],
   "source": [
    "def df_transform(df2):\n",
    "    #time - stratify into categories, e.g. hours\n",
    "    df = df2.copy()\n",
    "    df[[\"hour_entry\", \"minute_entry\", \"second_entry\"]] = df[\"time_entry\"].str.extract(r'(\\d+):(\\d+):(\\d+)').astype(int)\n",
    "    df[[\"hour_exit\", \"minute_exit\", \"second_exit\"]] = df[\"time_exit\"].str.extract(r'(\\d+):(\\d+):(\\d+)').astype(int)\n",
    "    df[\"totalsecs_entry\"] = (3600 * df[\"hour_entry\"] + 60 * df[\"minute_entry\"] + df[\"second_entry\"]) \n",
    "    df[\"totalsecs_exit\"] = (3600 * df[\"hour_exit\"] + 60 * df[\"minute_exit\"] + df[\"second_exit\"])\n",
    "    \n",
    "    [x_lower, x_upper, y_lower, y_upper] = [3750901.5068,3770901.5068, -19268905.6133,-19208905.6133]\n",
    "    df[\"incenter_entry\"] =  ((df[\"x_entry\"] < x_lower) & (df[\"x_entry\"] < x_upper) & \\\n",
    "                             (df[\"y_entry\"] < y_lower) &  (df[\"y_entry\"] < y_upper)) * 1\n",
    "    df[\"incenter_exit\"] =  ((df[\"x_exit\"] < x_lower) & (df[\"x_exit\"] < x_upper) & \\\n",
    "                             (df[\"y_exit\"] < y_lower) &  (df[\"y_exit\"] < y_upper)) * 1\n",
    "    \n",
    "    \n",
    "    #unknowns = ['x_exit','y_exit','dx','dy','vx','vy','dist','speed','n2','incenter_exit']\n",
    "    targets = df[df['hour_exit'] >= 15][['trajectory_id','x_exit','y_exit','incenter_exit']]\n",
    "    df.loc[df['hour_exit'] >= 15,['x_exit','y_exit','incenter_exit']] = np.nan\n",
    "\n",
    "    df[\"dt\"] = df[\"totalsecs_exit\"] - df[\"totalsecs_entry\"]\n",
    "    df['dx'] = df[\"x_exit\"] - df[\"x_entry\"]\n",
    "    df['dy'] = df[\"y_exit\"] - df[\"y_entry\"]\n",
    "    \n",
    "    tn0 = df[df[\"dt\"] > 0]\n",
    "    df.loc[df['dt'] > 0,'vx'] = tn0[\"dx\"] / tn0[\"dt\"]\n",
    "    df.loc[df['dt'] > 0,'vy'] = tn0[\"dy\"] / tn0[\"dt\"]\n",
    "    df.loc[df['dt'] > 0,'dist'] = np.sqrt(tn0['dx'] * tn0['dx'] + tn0['dy'] * tn0['dy'])\n",
    "    df.loc[df['dt'] > 0,'speed'] = df.loc[df['dt'] > 0,'dist'] / tn0[\"dt\"]\n",
    "\n",
    "    df['n'] = df.groupby(['hash']).cumcount()\n",
    "    df['n2'] = df.groupby(['hash']).cumcount(ascending=False)\n",
    "    \n",
    "    unwanted = ['Unnamed: 0', 'Unnamed: 0.1','vmean','vmin','vmax','time_entry','time_exit']\n",
    "    return df.drop(unwanted,axis=1).rename(index=str,columns={\"trajectory_id\":\"id\"}), targets.rename(index=str,columns={\"trajectory_id\":\"id\"}).set_index('id')\n",
    "\n",
    "#process data\n",
    "df_copy, targets = df_transform(df)"
   ]
  },
  {
   "cell_type": "code",
   "execution_count": null,
   "metadata": {
    "scrolled": true
   },
   "outputs": [],
   "source": [
    "#up to 20 entries for each vehicle, some entries are missing\n",
    "nth = df.groupby(['hash']).cumcount()\n",
    "df[df[\"trajectory_id\"].str.extract(r'(\\d+)$').astype(int) == df.groupby(['hash']).cumcount()]\n",
    "nth.hist(bins=40)\n",
    "(nth + 1).value_counts() / df_copy['cumcount'].shape[0] #16 % have 1 entry only"
   ]
  },
  {
   "cell_type": "code",
   "execution_count": null,
   "metadata": {
    "scrolled": true
   },
   "outputs": [],
   "source": [
    "#Distribution of X Coordinates\n",
    "df_copy[\"x_entry\"].plot.hist(bins=400,rot=90,figsize=(20,10))\n",
    "df_copy[\"x_exit\"].plot.hist(bins=400,alpha=0.5,rot=90,figsize=(20,10))\n",
    "\n",
    "#quite similar for x_entry, x_exit - on average shifted ot the right, became closer together\n",
    "print(df_copy['x_entry'].describe())\n",
    "print(df_copy['x_exit'].describe())"
   ]
  },
  {
   "cell_type": "code",
   "execution_count": null,
   "metadata": {
    "scrolled": true
   },
   "outputs": [],
   "source": [
    "#Y Coordinates\n",
    "df_copy[\"y_entry\"].plot.hist(bins=400,rot=90,figsize=(20,10))\n",
    "df_copy[\"y_exit\"].plot.hist(bins=400,alpha=0.5,rot=90,figsize=(20,10))\n",
    "\n",
    "#quite similar for x_entry, x_exit - on average shifted down, became more closer together\n",
    "print(df_copy['y_entry'].describe())\n",
    "print(df_copy['y_exit'].describe())"
   ]
  },
  {
   "cell_type": "code",
   "execution_count": null,
   "metadata": {
    "scrolled": true
   },
   "outputs": [],
   "source": [
    "df_copy.groupby(['incenter_entry','incenter_exit'])[['x_entry','y_entry']].describe()\n",
    "plt.scatter(df_copy['x_entry'],df_copy['y_entry'],alpha=0.005)\n",
    "plt.scatter(df_copy['x_exit'],df_copy['y_exit'],alpha=0.005)\n"
   ]
  },
  {
   "cell_type": "code",
   "execution_count": null,
   "metadata": {
    "scrolled": true
   },
   "outputs": [],
   "source": [
    "X_in = df_copy[df_copy['incenter_entry'] == True]\n",
    "X_out = df_copy[df_copy['incenter_entry'] == False]\n",
    "X_in_in = X_in[X_in['incenter_exit'] == True]\n",
    "X_in_out =  X_in[X_in['incenter_exit'] == False]\n",
    "X_out_in = X_out[X_out['incenter_exit'] == True]\n",
    "X_out_out =  X_out[X_out['incenter_exit'] == False]\n"
   ]
  },
  {
   "cell_type": "code",
   "execution_count": null,
   "metadata": {},
   "outputs": [],
   "source": [
    "plt.scatter(X_out_out['x_entry'],X_out_out['y_entry'],alpha=0.005,color='yellow')\n",
    "plt.scatter(X_in_in['x_entry'],X_in_in['y_entry'],alpha=0.005,color='yellow')\n",
    "plt.scatter(X_out_in['x_entry'],X_out_in['y_entry'],alpha=0.01,color='b')\n",
    "plt.scatter(X_in_out['x_entry'],X_in_out['y_entry'],alpha=0.01,color='b')\n",
    "\n"
   ]
  },
  {
   "cell_type": "code",
   "execution_count": null,
   "metadata": {
    "scrolled": true
   },
   "outputs": [],
   "source": [
    "plt.scatter(X_in_in['x_entry'],X_in_in['y_entry'],alpha=0.005)\n",
    "plt.scatter(X_in_out['x_entry'],X_in_out['y_entry'],alpha=0.01)\n"
   ]
  },
  {
   "cell_type": "code",
   "execution_count": null,
   "metadata": {},
   "outputs": [],
   "source": [
    "plt.scatter(X_out_out['x_entry'],X_out_out['y_entry'],alpha=0.005)\n",
    "plt.scatter(X_out_in['x_entry'],X_out_in['y_entry'],alpha=0.01)\n"
   ]
  },
  {
   "cell_type": "code",
   "execution_count": null,
   "metadata": {},
   "outputs": [],
   "source": [
    "X_out_out['dx'].hist(bins=200,xrot=90,figsize=(20,10),log=True,alpha=0.5,color='yellow')\n",
    "X_out_in['dx'].hist(bins=200,xrot=90,figsize=(20,10),log=True,alpha=0.5,color='r')\n",
    "X_in_out['dx'].hist(bins=200,xrot=90,figsize=(20,10),log=True,alpha=0.5,color='b')\n",
    "X_in_in['dx'].hist(bins=200,xrot=90,figsize=(20,10),log=True,alpha=0.5,color='green')\n",
    "df_copy.groupby(['incenter_entry','incenter_exit']).describe()"
   ]
  },
  {
   "cell_type": "code",
   "execution_count": null,
   "metadata": {
    "scrolled": true
   },
   "outputs": [],
   "source": [
    "X_out_out['dy'].hist(bins=200,xrot=90,figsize=(10,5),log=True,alpha=0.5,color='yellow')\n",
    "X_out_in['dy'].hist(bins=200,xrot=90,figsize=(10,5),log=True,alpha=0.5,color='r')\n",
    "X_in_out['dy'].hist(bins=200,xrot=90,figsize=(10,5),log=True,alpha=0.5,color='b')\n",
    "X_in_in['dy'].hist(bins=200,xrot=90,figsize=(10,5),log=True,alpha=0.5,color='green')"
   ]
  },
  {
   "cell_type": "code",
   "execution_count": null,
   "metadata": {
    "scrolled": true
   },
   "outputs": [],
   "source": [
    "#Overall time\n",
    "df_copy['totalsecs_entry'].hist(bins=960,figsize=(20,10))\n",
    "df_copy['totalsecs_exit'].hist(bins=960,figsize=(20,10),alpha=0.5)"
   ]
  },
  {
   "cell_type": "code",
   "execution_count": null,
   "metadata": {},
   "outputs": [],
   "source": [
    "#quantiles = np.array(df_copy['totalsecs_entry'].quantile([0,.25, .5, .75,1]))\n",
    "#df_copy['totalsecs_entry'].hist(bins=quantiles)\n",
    "#quantiles = np.array(df_copy['totalsecs_exit'].quantile([0,.25, .5, .75,1]))\n",
    "#df_copy['totalsecs_exit'].hist(bins=quantiles)\n",
    "\n"
   ]
  },
  {
   "cell_type": "code",
   "execution_count": null,
   "metadata": {},
   "outputs": [],
   "source": [
    "#Hours\n",
    "(df_copy['totalsecs_entry'] / 3600).hist(bins=16,figsize=(20,10))\n",
    "(df_copy['totalsecs_exit'] / 3600).hist(bins=16,figsize=(20,10),alpha=0.5)"
   ]
  },
  {
   "cell_type": "code",
   "execution_count": null,
   "metadata": {},
   "outputs": [],
   "source": [
    "#seasonality in minutes\n",
    "(df_copy['minute_entry']).value_counts().sort_index().plot(figsize=(20,10))\n",
    "(df_copy['minute_exit']).value_counts().sort_index().plot(figsize=(20,10))"
   ]
  },
  {
   "cell_type": "code",
   "execution_count": null,
   "metadata": {},
   "outputs": [],
   "source": [
    "quantile = np.array(df_copy['minuteentry'].quantile([0,0.25,0.5,0.75]))\n",
    "quantile2 = np.array(df_copy['minute_exit'].quantile([0,0.25,0.5,0.75]))"
   ]
  },
  {
   "cell_type": "code",
   "execution_count": null,
   "metadata": {},
   "outputs": [],
   "source": [
    "quantile = np.array(df_copy['second_entry'].quantile([0,0.25,0.5,0.75]))\n",
    "quantile2 = np.array(df_copy['second_exit'].quantile([0,0.25,0.5,0.75]))"
   ]
  },
  {
   "cell_type": "code",
   "execution_count": null,
   "metadata": {},
   "outputs": [],
   "source": [
    "#seasonality in seconds\n",
    "(df_copy['second_entry']).value_counts().sort_index().plot(figsize=(20,10))\n",
    "(df_copy['second_exit']).value_counts().sort_index().plot(figsize=(20,10))"
   ]
  },
  {
   "cell_type": "code",
   "execution_count": null,
   "metadata": {
    "scrolled": false
   },
   "outputs": [],
   "source": [
    "pd.crosstab(df_copy[\"incenter_exit\"],df_copy[\"incenter_entry\"])"
   ]
  },
  {
   "cell_type": "code",
   "execution_count": null,
   "metadata": {},
   "outputs": [],
   "source": [
    "t0 = df_copy[df_copy[\"dt\"] == 0]\n",
    "tn0 = df_copy[df_copy[\"dt\"] > 0]\n",
    "tn0['vx'] = tn0[\"dx\"] / tn0[\"dt\"]\n",
    "tn0['vy'] = tn0[\"dy\"] / tn0[\"dt\"]\n",
    "tn0['dist'] = np.sqrt(tn0['dx'] * tn0['dx'] + tn0['dy'] * tn0['dy'])\n",
    "tn0['speed'] = tn0['dist'] / tn0['dt']\n",
    "mu_dx = tn0['dx'].mean()\n",
    "std_dx = tn0['dx'].std()\n",
    "mu_dy = tn0['dy'].mean()\n",
    "std_dy = tn0['dy'].std()\n",
    "tn0['norm_dx'] = (tn0['dx'] - mu_dx) / std_dx\n",
    "tn0['norm_dy'] = (tn0['dy'] - mu_dy) / std_dy\n",
    "tn0['chisq'] = tn0['norm_dx'] * tn0['norm_dx'] + tn0['norm_dy'] * tn0['norm_dy']"
   ]
  },
  {
   "cell_type": "code",
   "execution_count": null,
   "metadata": {
    "scrolled": true
   },
   "outputs": [],
   "source": [
    "tn0.groupby(['incenter_entry','incenter_exit'])['dx'].hist(bins=200,xrot=90,figsize=(20,10),alpha=0.5,log=True)\n",
    "tn0.groupby(['incenter_entry','incenter_exit'])['dx'].describe()\n",
    "\n",
    "#those that are outside and enter the city tend to move west\n",
    "#those that are inside and exit the city tend to move east"
   ]
  },
  {
   "cell_type": "code",
   "execution_count": null,
   "metadata": {},
   "outputs": [],
   "source": [
    "tn0.groupby(['incenter_entry','incenter_exit'])['dy'].hist(bins=200,xrot=90,figsize=(20,10),alpha=0.5,log=True)\n",
    "tn0.groupby(['incenter_entry','incenter_exit'])['dy'].describe()\n",
    "\n",
    "#those that are outside and enter the city tend to move south a lot more\n",
    "#those that are inside and exit the city tend to move north a lot more"
   ]
  },
  {
   "cell_type": "code",
   "execution_count": null,
   "metadata": {},
   "outputs": [],
   "source": [
    "tn0.groupby(['incenter_entry','incenter_exit'])['vx'].hist(bins=200,xrot=90,figsize=(20,10),alpha=0.5,log=True)\n",
    "tn0.groupby(['incenter_entry','incenter_exit'])['vx'].describe()"
   ]
  },
  {
   "cell_type": "code",
   "execution_count": null,
   "metadata": {},
   "outputs": [],
   "source": [
    "tn0.groupby(['incenter_entry','incenter_exit'])['vy'].hist(bins=200,xrot=90,figsize=(20,10),alpha=0.5,log=True)\n",
    "tn0.groupby(['incenter_entry','incenter_exit'])['vy'].describe()"
   ]
  },
  {
   "cell_type": "code",
   "execution_count": null,
   "metadata": {},
   "outputs": [],
   "source": [
    "tn0.groupby(['incenter_entry','incenter_exit'])['dist'].hist(bins=200,xrot=90,figsize=(20,10),alpha=0.5,log=True)\n",
    "tn0.groupby(['incenter_entry','incenter_exit'])['dist'].describe()"
   ]
  },
  {
   "cell_type": "code",
   "execution_count": null,
   "metadata": {
    "scrolled": true
   },
   "outputs": [],
   "source": [
    "tn0.groupby(['incenter_entry','incenter_exit'])['speed'].hist(bins=200,xrot=90,figsize=(20,10),alpha=0.5,log=True)\n",
    "tn0.groupby(['incenter_entry','incenter_exit'])['speed'].describe()"
   ]
  },
  {
   "cell_type": "code",
   "execution_count": null,
   "metadata": {
    "scrolled": false
   },
   "outputs": [],
   "source": [
    "tn0.groupby(['incenter_entry','incenter_exit'])['chisq_entry'].hist(bins=100)\n",
    "tn0.groupby(['incenter_entry','incenter_exit'])['chisq_entry'].describe()"
   ]
  },
  {
   "cell_type": "code",
   "execution_count": null,
   "metadata": {
    "scrolled": true
   },
   "outputs": [],
   "source": [
    "tn0.columns\n",
    "wanted = ['x_entry','x_exit','y_entry','y_exit',\n",
    "          'norm_dx','norm_dy','chisq',\n",
    "          'totalsecs_entry','totalsecs_exit','totalsecs_mid',\n",
    "          'hour_entry','hour_exit','minute_entry','minute_exit','second_entry','second_exit',\n",
    "         'dt','dx','dy','vx','vy','dist','speed',\n",
    "          'incenter_entry','incenter_exit']\n",
    "\n",
    "\n",
    "features = ['x_entry','y_entry',\n",
    "          'totalsecs_entry','totalsecs_exit',\n",
    "          'hour_entry','hour_exit','second_entry','second_exit',\n",
    "           'dt','incenter_entry',\n",
    "           'x_exit','y_exit','incenter_exit']"
   ]
  },
  {
   "cell_type": "code",
   "execution_count": null,
   "metadata": {},
   "outputs": [],
   "source": [
    "tn0[wanted].corr()['incenter_exit'].abs().sort_values(ascending=False)\n",
    "#most correlated with x_exit - x_entry, y_entry, (totlasecs_exit), hour_exit, (totalsecs_entry) hour_entry', dt, incenter_entry, \n",
    "#most correlated with y_exit - y_entry, x_entry, incenter_entry, dt, (totalsecs_exit), hour_exit, (totalsecs_entry), hour_entry\n",
    "#most correlated with incenter_exit - incenter_entry, y_entry, hour_entry, (totalsecs_exit), (totalsecs_entry), hour_exit, second_exit, x_entry"
   ]
  },
  {
   "cell_type": "code",
   "execution_count": null,
   "metadata": {
    "scrolled": true
   },
   "outputs": [],
   "source": [
    "#normalise dt, time\n",
    "(np.log(tn0['dt']) - np.log(tn0['dt']).mean()).hist(bins=100)\n",
    "(np.log(tn0['dt']) - np.log(tn0['dt']).mean()).describe()\n",
    "((2 * ((tn0['dt'] - tn0['dt'].min()) / (tn0['dt'].max() - tn0['dt'].min()))) - 1).hist(log=True)"
   ]
  },
  {
   "cell_type": "code",
   "execution_count": null,
   "metadata": {
    "scrolled": true
   },
   "outputs": [],
   "source": [
    "#totalsecs_entry and totalsecs_exit are very different for tn0/df_copy vs final, otherwis they are similar\n"
   ]
  },
  {
   "cell_type": "code",
   "execution_count": 105,
   "metadata": {},
   "outputs": [
    {
     "ename": "KeyError",
     "evalue": "'incenter_exit'",
     "output_type": "error",
     "traceback": [
      "\u001b[0;31m---------------------------------------------------------------------------\u001b[0m",
      "\u001b[0;31mKeyError\u001b[0m                                  Traceback (most recent call last)",
      "\u001b[0;32m/usr/local/lib/python3.7/site-packages/pandas/core/indexes/base.py\u001b[0m in \u001b[0;36mget_loc\u001b[0;34m(self, key, method, tolerance)\u001b[0m\n\u001b[1;32m   2656\u001b[0m             \u001b[0;32mtry\u001b[0m\u001b[0;34m:\u001b[0m\u001b[0;34m\u001b[0m\u001b[0;34m\u001b[0m\u001b[0m\n\u001b[0;32m-> 2657\u001b[0;31m                 \u001b[0;32mreturn\u001b[0m \u001b[0mself\u001b[0m\u001b[0;34m.\u001b[0m\u001b[0m_engine\u001b[0m\u001b[0;34m.\u001b[0m\u001b[0mget_loc\u001b[0m\u001b[0;34m(\u001b[0m\u001b[0mkey\u001b[0m\u001b[0;34m)\u001b[0m\u001b[0;34m\u001b[0m\u001b[0;34m\u001b[0m\u001b[0m\n\u001b[0m\u001b[1;32m   2658\u001b[0m             \u001b[0;32mexcept\u001b[0m \u001b[0mKeyError\u001b[0m\u001b[0;34m:\u001b[0m\u001b[0;34m\u001b[0m\u001b[0;34m\u001b[0m\u001b[0m\n",
      "\u001b[0;32mpandas/_libs/index.pyx\u001b[0m in \u001b[0;36mpandas._libs.index.IndexEngine.get_loc\u001b[0;34m()\u001b[0m\n",
      "\u001b[0;32mpandas/_libs/index.pyx\u001b[0m in \u001b[0;36mpandas._libs.index.IndexEngine.get_loc\u001b[0;34m()\u001b[0m\n",
      "\u001b[0;32mpandas/_libs/hashtable_class_helper.pxi\u001b[0m in \u001b[0;36mpandas._libs.hashtable.PyObjectHashTable.get_item\u001b[0;34m()\u001b[0m\n",
      "\u001b[0;32mpandas/_libs/hashtable_class_helper.pxi\u001b[0m in \u001b[0;36mpandas._libs.hashtable.PyObjectHashTable.get_item\u001b[0;34m()\u001b[0m\n",
      "\u001b[0;31mKeyError\u001b[0m: 'incenter_exit'",
      "\nDuring handling of the above exception, another exception occurred:\n",
      "\u001b[0;31mKeyError\u001b[0m                                  Traceback (most recent call last)",
      "\u001b[0;32m<ipython-input-105-2cc58bbbe495>\u001b[0m in \u001b[0;36m<module>\u001b[0;34m\u001b[0m\n\u001b[1;32m      2\u001b[0m \u001b[0;31m#more likely to stay where originally\u001b[0m\u001b[0;34m\u001b[0m\u001b[0;34m\u001b[0m\u001b[0;34m\u001b[0m\u001b[0m\n\u001b[1;32m      3\u001b[0m \u001b[0;31m#less likely to move from outside city to in\u001b[0m\u001b[0;34m\u001b[0m\u001b[0;34m\u001b[0m\u001b[0;34m\u001b[0m\u001b[0m\n\u001b[0;32m----> 4\u001b[0;31m \u001b[0mprint\u001b[0m\u001b[0;34m(\u001b[0m\u001b[0;34m'final\\n'\u001b[0m\u001b[0;34m,\u001b[0m\u001b[0mpd\u001b[0m\u001b[0;34m.\u001b[0m\u001b[0mcrosstab\u001b[0m\u001b[0;34m(\u001b[0m\u001b[0mfinal_tn0\u001b[0m\u001b[0;34m[\u001b[0m\u001b[0;34m'incenter_exit'\u001b[0m\u001b[0;34m]\u001b[0m\u001b[0;34m,\u001b[0m\u001b[0mfinal_tn0\u001b[0m\u001b[0;34m[\u001b[0m\u001b[0;34m'incenter_entry'\u001b[0m\u001b[0;34m]\u001b[0m\u001b[0;34m)\u001b[0m \u001b[0;34m/\u001b[0m \u001b[0mfinal_tn0\u001b[0m\u001b[0;34m.\u001b[0m\u001b[0mshape\u001b[0m\u001b[0;34m[\u001b[0m\u001b[0;36m0\u001b[0m\u001b[0;34m]\u001b[0m\u001b[0;34m,\u001b[0m \u001b[0;34m'\\n'\u001b[0m\u001b[0;34m)\u001b[0m\u001b[0;34m\u001b[0m\u001b[0;34m\u001b[0m\u001b[0m\n\u001b[0m\u001b[1;32m      5\u001b[0m \u001b[0mprint\u001b[0m\u001b[0;34m(\u001b[0m\u001b[0;34m'first\\n'\u001b[0m\u001b[0;34m,\u001b[0m\u001b[0mpd\u001b[0m\u001b[0;34m.\u001b[0m\u001b[0mcrosstab\u001b[0m\u001b[0;34m(\u001b[0m\u001b[0mfirst_tn0\u001b[0m\u001b[0;34m[\u001b[0m\u001b[0;34m'incenter_exit'\u001b[0m\u001b[0;34m]\u001b[0m\u001b[0;34m,\u001b[0m\u001b[0mfirst_tn0\u001b[0m\u001b[0;34m[\u001b[0m\u001b[0;34m'incenter_entry'\u001b[0m\u001b[0;34m]\u001b[0m\u001b[0;34m)\u001b[0m \u001b[0;34m/\u001b[0m \u001b[0mfirst_tn0\u001b[0m\u001b[0;34m.\u001b[0m\u001b[0mshape\u001b[0m\u001b[0;34m[\u001b[0m\u001b[0;36m0\u001b[0m\u001b[0;34m]\u001b[0m\u001b[0;34m,\u001b[0m\u001b[0;34m'\\n'\u001b[0m\u001b[0;34m)\u001b[0m\u001b[0;34m\u001b[0m\u001b[0;34m\u001b[0m\u001b[0m\n\u001b[1;32m      6\u001b[0m \u001b[0mprint\u001b[0m\u001b[0;34m(\u001b[0m\u001b[0;34m'tn0\\n'\u001b[0m\u001b[0;34m,\u001b[0m\u001b[0mpd\u001b[0m\u001b[0;34m.\u001b[0m\u001b[0mcrosstab\u001b[0m\u001b[0;34m(\u001b[0m\u001b[0mtn0\u001b[0m\u001b[0;34m[\u001b[0m\u001b[0;34m'incenter_exit'\u001b[0m\u001b[0;34m]\u001b[0m\u001b[0;34m,\u001b[0m\u001b[0mtn0\u001b[0m\u001b[0;34m[\u001b[0m\u001b[0;34m'incenter_entry'\u001b[0m\u001b[0;34m]\u001b[0m\u001b[0;34m)\u001b[0m \u001b[0;34m/\u001b[0m \u001b[0mtn0\u001b[0m\u001b[0;34m.\u001b[0m\u001b[0mshape\u001b[0m\u001b[0;34m[\u001b[0m\u001b[0;36m0\u001b[0m\u001b[0;34m]\u001b[0m\u001b[0;34m)\u001b[0m\u001b[0;34m\u001b[0m\u001b[0;34m\u001b[0m\u001b[0m\n",
      "\u001b[0;32m/usr/local/lib/python3.7/site-packages/pandas/core/frame.py\u001b[0m in \u001b[0;36m__getitem__\u001b[0;34m(self, key)\u001b[0m\n\u001b[1;32m   2925\u001b[0m             \u001b[0;32mif\u001b[0m \u001b[0mself\u001b[0m\u001b[0;34m.\u001b[0m\u001b[0mcolumns\u001b[0m\u001b[0;34m.\u001b[0m\u001b[0mnlevels\u001b[0m \u001b[0;34m>\u001b[0m \u001b[0;36m1\u001b[0m\u001b[0;34m:\u001b[0m\u001b[0;34m\u001b[0m\u001b[0;34m\u001b[0m\u001b[0m\n\u001b[1;32m   2926\u001b[0m                 \u001b[0;32mreturn\u001b[0m \u001b[0mself\u001b[0m\u001b[0;34m.\u001b[0m\u001b[0m_getitem_multilevel\u001b[0m\u001b[0;34m(\u001b[0m\u001b[0mkey\u001b[0m\u001b[0;34m)\u001b[0m\u001b[0;34m\u001b[0m\u001b[0;34m\u001b[0m\u001b[0m\n\u001b[0;32m-> 2927\u001b[0;31m             \u001b[0mindexer\u001b[0m \u001b[0;34m=\u001b[0m \u001b[0mself\u001b[0m\u001b[0;34m.\u001b[0m\u001b[0mcolumns\u001b[0m\u001b[0;34m.\u001b[0m\u001b[0mget_loc\u001b[0m\u001b[0;34m(\u001b[0m\u001b[0mkey\u001b[0m\u001b[0;34m)\u001b[0m\u001b[0;34m\u001b[0m\u001b[0;34m\u001b[0m\u001b[0m\n\u001b[0m\u001b[1;32m   2928\u001b[0m             \u001b[0;32mif\u001b[0m \u001b[0mis_integer\u001b[0m\u001b[0;34m(\u001b[0m\u001b[0mindexer\u001b[0m\u001b[0;34m)\u001b[0m\u001b[0;34m:\u001b[0m\u001b[0;34m\u001b[0m\u001b[0;34m\u001b[0m\u001b[0m\n\u001b[1;32m   2929\u001b[0m                 \u001b[0mindexer\u001b[0m \u001b[0;34m=\u001b[0m \u001b[0;34m[\u001b[0m\u001b[0mindexer\u001b[0m\u001b[0;34m]\u001b[0m\u001b[0;34m\u001b[0m\u001b[0;34m\u001b[0m\u001b[0m\n",
      "\u001b[0;32m/usr/local/lib/python3.7/site-packages/pandas/core/indexes/base.py\u001b[0m in \u001b[0;36mget_loc\u001b[0;34m(self, key, method, tolerance)\u001b[0m\n\u001b[1;32m   2657\u001b[0m                 \u001b[0;32mreturn\u001b[0m \u001b[0mself\u001b[0m\u001b[0;34m.\u001b[0m\u001b[0m_engine\u001b[0m\u001b[0;34m.\u001b[0m\u001b[0mget_loc\u001b[0m\u001b[0;34m(\u001b[0m\u001b[0mkey\u001b[0m\u001b[0;34m)\u001b[0m\u001b[0;34m\u001b[0m\u001b[0;34m\u001b[0m\u001b[0m\n\u001b[1;32m   2658\u001b[0m             \u001b[0;32mexcept\u001b[0m \u001b[0mKeyError\u001b[0m\u001b[0;34m:\u001b[0m\u001b[0;34m\u001b[0m\u001b[0;34m\u001b[0m\u001b[0m\n\u001b[0;32m-> 2659\u001b[0;31m                 \u001b[0;32mreturn\u001b[0m \u001b[0mself\u001b[0m\u001b[0;34m.\u001b[0m\u001b[0m_engine\u001b[0m\u001b[0;34m.\u001b[0m\u001b[0mget_loc\u001b[0m\u001b[0;34m(\u001b[0m\u001b[0mself\u001b[0m\u001b[0;34m.\u001b[0m\u001b[0m_maybe_cast_indexer\u001b[0m\u001b[0;34m(\u001b[0m\u001b[0mkey\u001b[0m\u001b[0;34m)\u001b[0m\u001b[0;34m)\u001b[0m\u001b[0;34m\u001b[0m\u001b[0;34m\u001b[0m\u001b[0m\n\u001b[0m\u001b[1;32m   2660\u001b[0m         \u001b[0mindexer\u001b[0m \u001b[0;34m=\u001b[0m \u001b[0mself\u001b[0m\u001b[0;34m.\u001b[0m\u001b[0mget_indexer\u001b[0m\u001b[0;34m(\u001b[0m\u001b[0;34m[\u001b[0m\u001b[0mkey\u001b[0m\u001b[0;34m]\u001b[0m\u001b[0;34m,\u001b[0m \u001b[0mmethod\u001b[0m\u001b[0;34m=\u001b[0m\u001b[0mmethod\u001b[0m\u001b[0;34m,\u001b[0m \u001b[0mtolerance\u001b[0m\u001b[0;34m=\u001b[0m\u001b[0mtolerance\u001b[0m\u001b[0;34m)\u001b[0m\u001b[0;34m\u001b[0m\u001b[0;34m\u001b[0m\u001b[0m\n\u001b[1;32m   2661\u001b[0m         \u001b[0;32mif\u001b[0m \u001b[0mindexer\u001b[0m\u001b[0;34m.\u001b[0m\u001b[0mndim\u001b[0m \u001b[0;34m>\u001b[0m \u001b[0;36m1\u001b[0m \u001b[0;32mor\u001b[0m \u001b[0mindexer\u001b[0m\u001b[0;34m.\u001b[0m\u001b[0msize\u001b[0m \u001b[0;34m>\u001b[0m \u001b[0;36m1\u001b[0m\u001b[0;34m:\u001b[0m\u001b[0;34m\u001b[0m\u001b[0;34m\u001b[0m\u001b[0m\n",
      "\u001b[0;32mpandas/_libs/index.pyx\u001b[0m in \u001b[0;36mpandas._libs.index.IndexEngine.get_loc\u001b[0;34m()\u001b[0m\n",
      "\u001b[0;32mpandas/_libs/index.pyx\u001b[0m in \u001b[0;36mpandas._libs.index.IndexEngine.get_loc\u001b[0;34m()\u001b[0m\n",
      "\u001b[0;32mpandas/_libs/hashtable_class_helper.pxi\u001b[0m in \u001b[0;36mpandas._libs.hashtable.PyObjectHashTable.get_item\u001b[0;34m()\u001b[0m\n",
      "\u001b[0;32mpandas/_libs/hashtable_class_helper.pxi\u001b[0m in \u001b[0;36mpandas._libs.hashtable.PyObjectHashTable.get_item\u001b[0;34m()\u001b[0m\n",
      "\u001b[0;31mKeyError\u001b[0m: 'incenter_exit'"
     ]
    }
   ],
   "source": [
    "#it is more likely to be moving from the city to out compared to tn0, first_tn0\n",
    "#more likely to stay where originally\n",
    "#less likely to move from outside city to in\n",
    "print('final\\n',pd.crosstab(final_tn0['incenter_exit'],final_tn0['incenter_entry']) / final_tn0.shape[0], '\\n')\n",
    "print('first\\n',pd.crosstab(first_tn0['incenter_exit'],first_tn0['incenter_entry']) / first_tn0.shape[0],'\\n')\n",
    "print('tn0\\n',pd.crosstab(tn0['incenter_exit'],tn0['incenter_entry']) / tn0.shape[0])"
   ]
  },
  {
   "cell_type": "code",
   "execution_count": 78,
   "metadata": {},
   "outputs": [
    {
     "ename": "KeyError",
     "evalue": "'id'",
     "output_type": "error",
     "traceback": [
      "\u001b[0;31m---------------------------------------------------------------------------\u001b[0m",
      "\u001b[0;31mKeyError\u001b[0m                                  Traceback (most recent call last)",
      "\u001b[0;32m/usr/local/lib/python3.7/site-packages/pandas/core/indexes/base.py\u001b[0m in \u001b[0;36mget_loc\u001b[0;34m(self, key, method, tolerance)\u001b[0m\n\u001b[1;32m   2656\u001b[0m             \u001b[0;32mtry\u001b[0m\u001b[0;34m:\u001b[0m\u001b[0;34m\u001b[0m\u001b[0;34m\u001b[0m\u001b[0m\n\u001b[0;32m-> 2657\u001b[0;31m                 \u001b[0;32mreturn\u001b[0m \u001b[0mself\u001b[0m\u001b[0;34m.\u001b[0m\u001b[0m_engine\u001b[0m\u001b[0;34m.\u001b[0m\u001b[0mget_loc\u001b[0m\u001b[0;34m(\u001b[0m\u001b[0mkey\u001b[0m\u001b[0;34m)\u001b[0m\u001b[0;34m\u001b[0m\u001b[0;34m\u001b[0m\u001b[0m\n\u001b[0m\u001b[1;32m   2658\u001b[0m             \u001b[0;32mexcept\u001b[0m \u001b[0mKeyError\u001b[0m\u001b[0;34m:\u001b[0m\u001b[0;34m\u001b[0m\u001b[0;34m\u001b[0m\u001b[0m\n",
      "\u001b[0;32mpandas/_libs/index.pyx\u001b[0m in \u001b[0;36mpandas._libs.index.IndexEngine.get_loc\u001b[0;34m()\u001b[0m\n",
      "\u001b[0;32mpandas/_libs/index.pyx\u001b[0m in \u001b[0;36mpandas._libs.index.IndexEngine.get_loc\u001b[0;34m()\u001b[0m\n",
      "\u001b[0;32mpandas/_libs/hashtable_class_helper.pxi\u001b[0m in \u001b[0;36mpandas._libs.hashtable.PyObjectHashTable.get_item\u001b[0;34m()\u001b[0m\n",
      "\u001b[0;32mpandas/_libs/hashtable_class_helper.pxi\u001b[0m in \u001b[0;36mpandas._libs.hashtable.PyObjectHashTable.get_item\u001b[0;34m()\u001b[0m\n",
      "\u001b[0;31mKeyError\u001b[0m: 'id'",
      "\nDuring handling of the above exception, another exception occurred:\n",
      "\u001b[0;31mKeyError\u001b[0m                                  Traceback (most recent call last)",
      "\u001b[0;32m<ipython-input-78-f58ef418764f>\u001b[0m in \u001b[0;36m<module>\u001b[0;34m\u001b[0m\n\u001b[1;32m     53\u001b[0m \u001b[0mfinal\u001b[0m \u001b[0;34m=\u001b[0m \u001b[0mfinal\u001b[0m\u001b[0;34m.\u001b[0m\u001b[0mdrop\u001b[0m\u001b[0;34m(\u001b[0m\u001b[0munknowns\u001b[0m\u001b[0;34m,\u001b[0m\u001b[0maxis\u001b[0m\u001b[0;34m=\u001b[0m\u001b[0;36m1\u001b[0m\u001b[0;34m)\u001b[0m\u001b[0;34m\u001b[0m\u001b[0;34m\u001b[0m\u001b[0m\n\u001b[1;32m     54\u001b[0m \u001b[0mfinal\u001b[0m \u001b[0;34m=\u001b[0m \u001b[0maggregate\u001b[0m\u001b[0;34m(\u001b[0m\u001b[0mdf_copy\u001b[0m\u001b[0;34m,\u001b[0m\u001b[0mfinal\u001b[0m\u001b[0;34m)\u001b[0m\u001b[0;34m\u001b[0m\u001b[0;34m\u001b[0m\u001b[0m\n\u001b[0;32m---> 55\u001b[0;31m \u001b[0mfinal\u001b[0m \u001b[0;34m=\u001b[0m \u001b[0mfinal\u001b[0m\u001b[0;34m.\u001b[0m\u001b[0mset_index\u001b[0m\u001b[0;34m(\u001b[0m\u001b[0;34m'id'\u001b[0m\u001b[0;34m)\u001b[0m\u001b[0;34m\u001b[0m\u001b[0;34m\u001b[0m\u001b[0m\n\u001b[0m",
      "\u001b[0;32m/usr/local/lib/python3.7/site-packages/pandas/core/frame.py\u001b[0m in \u001b[0;36mset_index\u001b[0;34m(self, keys, drop, append, inplace, verify_integrity)\u001b[0m\n\u001b[1;32m   4176\u001b[0m                 \u001b[0mnames\u001b[0m\u001b[0;34m.\u001b[0m\u001b[0mappend\u001b[0m\u001b[0;34m(\u001b[0m\u001b[0;32mNone\u001b[0m\u001b[0;34m)\u001b[0m\u001b[0;34m\u001b[0m\u001b[0;34m\u001b[0m\u001b[0m\n\u001b[1;32m   4177\u001b[0m             \u001b[0;32melse\u001b[0m\u001b[0;34m:\u001b[0m\u001b[0;34m\u001b[0m\u001b[0;34m\u001b[0m\u001b[0m\n\u001b[0;32m-> 4178\u001b[0;31m                 \u001b[0mlevel\u001b[0m \u001b[0;34m=\u001b[0m \u001b[0mframe\u001b[0m\u001b[0;34m[\u001b[0m\u001b[0mcol\u001b[0m\u001b[0;34m]\u001b[0m\u001b[0;34m.\u001b[0m\u001b[0m_values\u001b[0m\u001b[0;34m\u001b[0m\u001b[0;34m\u001b[0m\u001b[0m\n\u001b[0m\u001b[1;32m   4179\u001b[0m                 \u001b[0mnames\u001b[0m\u001b[0;34m.\u001b[0m\u001b[0mappend\u001b[0m\u001b[0;34m(\u001b[0m\u001b[0mcol\u001b[0m\u001b[0;34m)\u001b[0m\u001b[0;34m\u001b[0m\u001b[0;34m\u001b[0m\u001b[0m\n\u001b[1;32m   4180\u001b[0m                 \u001b[0;32mif\u001b[0m \u001b[0mdrop\u001b[0m\u001b[0;34m:\u001b[0m\u001b[0;34m\u001b[0m\u001b[0;34m\u001b[0m\u001b[0m\n",
      "\u001b[0;32m/usr/local/lib/python3.7/site-packages/pandas/core/frame.py\u001b[0m in \u001b[0;36m__getitem__\u001b[0;34m(self, key)\u001b[0m\n\u001b[1;32m   2925\u001b[0m             \u001b[0;32mif\u001b[0m \u001b[0mself\u001b[0m\u001b[0;34m.\u001b[0m\u001b[0mcolumns\u001b[0m\u001b[0;34m.\u001b[0m\u001b[0mnlevels\u001b[0m \u001b[0;34m>\u001b[0m \u001b[0;36m1\u001b[0m\u001b[0;34m:\u001b[0m\u001b[0;34m\u001b[0m\u001b[0;34m\u001b[0m\u001b[0m\n\u001b[1;32m   2926\u001b[0m                 \u001b[0;32mreturn\u001b[0m \u001b[0mself\u001b[0m\u001b[0;34m.\u001b[0m\u001b[0m_getitem_multilevel\u001b[0m\u001b[0;34m(\u001b[0m\u001b[0mkey\u001b[0m\u001b[0;34m)\u001b[0m\u001b[0;34m\u001b[0m\u001b[0;34m\u001b[0m\u001b[0m\n\u001b[0;32m-> 2927\u001b[0;31m             \u001b[0mindexer\u001b[0m \u001b[0;34m=\u001b[0m \u001b[0mself\u001b[0m\u001b[0;34m.\u001b[0m\u001b[0mcolumns\u001b[0m\u001b[0;34m.\u001b[0m\u001b[0mget_loc\u001b[0m\u001b[0;34m(\u001b[0m\u001b[0mkey\u001b[0m\u001b[0;34m)\u001b[0m\u001b[0;34m\u001b[0m\u001b[0;34m\u001b[0m\u001b[0m\n\u001b[0m\u001b[1;32m   2928\u001b[0m             \u001b[0;32mif\u001b[0m \u001b[0mis_integer\u001b[0m\u001b[0;34m(\u001b[0m\u001b[0mindexer\u001b[0m\u001b[0;34m)\u001b[0m\u001b[0;34m:\u001b[0m\u001b[0;34m\u001b[0m\u001b[0;34m\u001b[0m\u001b[0m\n\u001b[1;32m   2929\u001b[0m                 \u001b[0mindexer\u001b[0m \u001b[0;34m=\u001b[0m \u001b[0;34m[\u001b[0m\u001b[0mindexer\u001b[0m\u001b[0;34m]\u001b[0m\u001b[0;34m\u001b[0m\u001b[0;34m\u001b[0m\u001b[0m\n",
      "\u001b[0;32m/usr/local/lib/python3.7/site-packages/pandas/core/indexes/base.py\u001b[0m in \u001b[0;36mget_loc\u001b[0;34m(self, key, method, tolerance)\u001b[0m\n\u001b[1;32m   2657\u001b[0m                 \u001b[0;32mreturn\u001b[0m \u001b[0mself\u001b[0m\u001b[0;34m.\u001b[0m\u001b[0m_engine\u001b[0m\u001b[0;34m.\u001b[0m\u001b[0mget_loc\u001b[0m\u001b[0;34m(\u001b[0m\u001b[0mkey\u001b[0m\u001b[0;34m)\u001b[0m\u001b[0;34m\u001b[0m\u001b[0;34m\u001b[0m\u001b[0m\n\u001b[1;32m   2658\u001b[0m             \u001b[0;32mexcept\u001b[0m \u001b[0mKeyError\u001b[0m\u001b[0;34m:\u001b[0m\u001b[0;34m\u001b[0m\u001b[0;34m\u001b[0m\u001b[0m\n\u001b[0;32m-> 2659\u001b[0;31m                 \u001b[0;32mreturn\u001b[0m \u001b[0mself\u001b[0m\u001b[0;34m.\u001b[0m\u001b[0m_engine\u001b[0m\u001b[0;34m.\u001b[0m\u001b[0mget_loc\u001b[0m\u001b[0;34m(\u001b[0m\u001b[0mself\u001b[0m\u001b[0;34m.\u001b[0m\u001b[0m_maybe_cast_indexer\u001b[0m\u001b[0;34m(\u001b[0m\u001b[0mkey\u001b[0m\u001b[0;34m)\u001b[0m\u001b[0;34m)\u001b[0m\u001b[0;34m\u001b[0m\u001b[0;34m\u001b[0m\u001b[0m\n\u001b[0m\u001b[1;32m   2660\u001b[0m         \u001b[0mindexer\u001b[0m \u001b[0;34m=\u001b[0m \u001b[0mself\u001b[0m\u001b[0;34m.\u001b[0m\u001b[0mget_indexer\u001b[0m\u001b[0;34m(\u001b[0m\u001b[0;34m[\u001b[0m\u001b[0mkey\u001b[0m\u001b[0;34m]\u001b[0m\u001b[0;34m,\u001b[0m \u001b[0mmethod\u001b[0m\u001b[0;34m=\u001b[0m\u001b[0mmethod\u001b[0m\u001b[0;34m,\u001b[0m \u001b[0mtolerance\u001b[0m\u001b[0;34m=\u001b[0m\u001b[0mtolerance\u001b[0m\u001b[0;34m)\u001b[0m\u001b[0;34m\u001b[0m\u001b[0;34m\u001b[0m\u001b[0m\n\u001b[1;32m   2661\u001b[0m         \u001b[0;32mif\u001b[0m \u001b[0mindexer\u001b[0m\u001b[0;34m.\u001b[0m\u001b[0mndim\u001b[0m \u001b[0;34m>\u001b[0m \u001b[0;36m1\u001b[0m \u001b[0;32mor\u001b[0m \u001b[0mindexer\u001b[0m\u001b[0;34m.\u001b[0m\u001b[0msize\u001b[0m \u001b[0;34m>\u001b[0m \u001b[0;36m1\u001b[0m\u001b[0;34m:\u001b[0m\u001b[0;34m\u001b[0m\u001b[0;34m\u001b[0m\u001b[0m\n",
      "\u001b[0;32mpandas/_libs/index.pyx\u001b[0m in \u001b[0;36mpandas._libs.index.IndexEngine.get_loc\u001b[0;34m()\u001b[0m\n",
      "\u001b[0;32mpandas/_libs/index.pyx\u001b[0m in \u001b[0;36mpandas._libs.index.IndexEngine.get_loc\u001b[0;34m()\u001b[0m\n",
      "\u001b[0;32mpandas/_libs/hashtable_class_helper.pxi\u001b[0m in \u001b[0;36mpandas._libs.hashtable.PyObjectHashTable.get_item\u001b[0;34m()\u001b[0m\n",
      "\u001b[0;32mpandas/_libs/hashtable_class_helper.pxi\u001b[0m in \u001b[0;36mpandas._libs.hashtable.PyObjectHashTable.get_item\u001b[0;34m()\u001b[0m\n",
      "\u001b[0;31mKeyError\u001b[0m: 'id'"
     ]
    }
   ],
   "source": [
    "def aggregate(df,df3):\n",
    "    df2 = df3.copy()\n",
    "    \n",
    "    #no need to aggregate for groups with just 1 entry\n",
    "    hashgroup = df.groupby(['hash']).filter(lambda x: len(x) > 1).groupby(['hash'])\n",
    "    features = {}\n",
    "    \n",
    "    features['ratio_in'] = hashgroup[['incenter_entry','incenter_exit']].apply(np.nanmean)\n",
    "    features['avg_x'] = hashgroup[['x_entry','x_exit']].apply(np.nanmean)\n",
    "    features['avg_y'] = hashgroup[['y_entry','y_exit']].apply(np.nanmean)\n",
    "    features['total_dist'] = hashgroup['dist'].sum()\n",
    "    df2['avg_speed'] = df2['total_dist'].divide(df2['total_dt'])\n",
    "    \n",
    "    for f in features:\n",
    "        df2 = df2.merge(features[f].rename(f),left_on=\"hash\",right_index=True,how='outer')\n",
    "        \n",
    "        \n",
    "   #mean, median, max, min of x, y positions\n",
    "\n",
    "    #position at origin\n",
    "    f = ['hash','x_entry','y_entry','totalsecs_entry']\n",
    "    fs = df.loc[df['n'] == 0][f]\n",
    "    fs.columns = ['hash','x_0','y_0','t_0']\n",
    "    df2 = df2.merge(fs,left_on=\"hash\",right_on=\"hash\",how='outer')\n",
    "    df2[\"total_dt\"] = df2[\"totalsecs_entry\"] - df2[\"t_0\"]  \n",
    "    df2['net_dy'] = df2[\"y_entry\"] - df2[\"y_0\"]  \n",
    "    df2['net_dx'] = df2[\"x_entry\"] - df2[\"x_0\"]\n",
    "    \n",
    "    \n",
    "    #prior 2 positions\n",
    "    f = ['hash',\"x_exit\",\"y_exit\",\"x_entry\",\"y_entry\",\"totalsecs_exit\",'totalsecs_entry',\n",
    "         'dx','dy','dist','dt','vx','vy','speed']\n",
    "    fs = df_copy.loc[df_copy['n2'] == 1][f]\n",
    "    fs.columns = ['hash',\"x_nm1\",\"y_nm1\",\"x_nm2\",\"y_nm2\",\"t_nm1\",'t_nm2',\n",
    "         'dx_nm2','dy_nm2','dist_nm2','dt_nm2','vx_nm2','vy_nm2','speed_nm2']\n",
    "    \n",
    "    df2 = df2.merge(fs,left_on=\"hash\",right_on=\"hash\",how='outer')\n",
    "    df2['dt_nm1'] = df2['totalsecs_entry'] - df2['t_nm1']\n",
    "    df2['dx_nm1'] = df2['x_entry'] - df2['x_nm1']\n",
    "    df2['dy_nm1'] = df2['y_entry'] - df2['y_nm1']\n",
    "    df2['dist_nm1'] = np.sqrt(df2['dx_nm1'] * df2['dx_nm1'] + df2['dy_nm1'] * df2['dy_nm1'])\n",
    "    df2['vx_nm1'] = df2['dx_nm1'].divide(df2['dt_nm1'])\n",
    "    df2['vy_nm1'] = df2['dy_nm1'].divide(df2['dt_nm1'])\n",
    "    df2['speed_nm1'] = df2['dist_nm1'].divide(df2['dt_nm1'])\n",
    "\n",
    "    return df2\n",
    "\n",
    "\n",
    "final = df_copy[df_copy['hour_exit'] >= 15]\n",
    "unknowns = ['x_exit','y_exit','dx','dy','vx','vy','dist','speed','n2','incenter_exit']\n",
    "final = final.drop(unknowns,axis=1)\n",
    "final = aggregate(df_copy,final)\n",
    "final = final.set_index('id')"
   ]
  },
  {
   "cell_type": "code",
   "execution_count": 99,
   "metadata": {
    "scrolled": false
   },
   "outputs": [
    {
     "data": {
      "text/plain": [
       "incenter_exit      1.000000\n",
       "incenter_entry     0.715186\n",
       "x_exit             0.597513\n",
       "x_entry            0.492121\n",
       "y_exit             0.411266\n",
       "y_entry            0.333567\n",
       "totalsecs_exit     0.043013\n",
       "totalsecs_entry    0.029132\n",
       "hour_entry         0.014753\n",
       "dt                 0.009748\n",
       "hour_exit          0.003725\n",
       "second_entry       0.003593\n",
       "second_exit        0.003160\n",
       "Name: incenter_exit, dtype: float64"
      ]
     },
     "execution_count": 99,
     "metadata": {},
     "output_type": "execute_result"
    }
   ],
   "source": [
    "features = ['x_entry','y_entry',\n",
    "          'totalsecs_entry','totalsecs_exit',\n",
    "          'hour_entry','hour_exit','second_entry','second_exit',\n",
    "           'dt','incenter_entry']\n",
    "final_tn0 = final[final['dt'] > 0 ]\n",
    "pd.merge(targets,final_tn0[features],left_index=True,right_index=True,how='outer').corr()['incenter_exit'].abs().sort_values(ascending=False)\n",
    "#most correalted to incenter_exit - y_entry, dt, x_entry, second_exit, (totalsecs_exit), (totalsecs_entry), second_entry\n",
    "#most correlated to x_exit - x_entry, y_entry, (totalsecs_exit), (totalsecs_entry), hour_entry, icnenter_entry, second_exit\n",
    "#most correlated to y_exit - y_entry, x_entry, incenter_entry, (totalsecs_exit), dt, hour_exit, second_entry"
   ]
  },
  {
   "cell_type": "code",
   "execution_count": 97,
   "metadata": {
    "scrolled": true
   },
   "outputs": [
    {
     "data": {
      "text/plain": [
       "incenter_exit    1.000000\n",
       "ratio_in         0.669356\n",
       "x_exit           0.597513\n",
       "avg_x            0.452412\n",
       "y_exit           0.411266\n",
       "x_0              0.344539\n",
       "avg_y            0.313389\n",
       "y_0              0.235726\n",
       "net_dx           0.125480\n",
       "total_dt         0.072345\n",
       "t_0              0.070367\n",
       "net_dy           0.055329\n",
       "avg_speed        0.021460\n",
       "total_dist       0.013163\n",
       "Name: incenter_exit, dtype: float64"
      ]
     },
     "execution_count": 97,
     "metadata": {},
     "output_type": "execute_result"
    }
   ],
   "source": [
    "final_tn0 = final[final['dt'] > 0 ]\n",
    "origin_features = ['ratio_in','total_dist','x_0','y_0','t_0','total_dt','net_dy','net_dx','avg_speed','avg_x','avg_y']\n",
    "#final.merge(pd.DataFrame(df_copy.loc[df_copy['n'] == 0,\"x_entry\"].rename('x_0')),how='outer')['x_0']\n",
    "\n",
    "#f = ['hash',\"x_exit\",\"y_exit\",\"x_entry\",\"y_entry\",\"totalsecs_exit\",'totalsecs_entry','vx','vy','speed']\n",
    "pd.merge(targets,final_tn0[origin_features],left_index=True,right_index=True,how='outer').corr()['incenter_exit'].abs().sort_values(ascending=False)"
   ]
  },
  {
   "cell_type": "code",
   "execution_count": 93,
   "metadata": {},
   "outputs": [
    {
     "data": {
      "text/plain": [
       "incenter_exit    1.000000\n",
       "x_exit           0.597513\n",
       "x_nm1            0.449537\n",
       "x_nm2            0.424332\n",
       "y_exit           0.411266\n",
       "y_nm1            0.300542\n",
       "y_nm2            0.282230\n",
       "dx_nm1           0.094703\n",
       "dy_nm1           0.069142\n",
       "dx_nm2           0.060394\n",
       "dy_nm2           0.036272\n",
       "dt_nm1           0.024212\n",
       "avg_speed        0.021460\n",
       "t_nm1            0.020889\n",
       "t_nm2            0.020446\n",
       "dist_nm1         0.013198\n",
       "vx_nm2           0.012688\n",
       "speed_nm2        0.005002\n",
       "dt_nm2           0.004741\n",
       "vy_nm2           0.003890\n",
       "dist_nm2         0.003730\n",
       "vx_nm1           0.003120\n",
       "speed_nm1        0.003034\n",
       "vy_nm1           0.001982\n",
       "Name: incenter_exit, dtype: float64"
      ]
     },
     "execution_count": 93,
     "metadata": {},
     "output_type": "execute_result"
    }
   ],
   "source": [
    "priors = ['x_nm1', 'y_nm1', 'x_nm2', 'y_nm2',\n",
    "       't_nm1', 't_nm2', 'dx_nm2', 'dy_nm2', 'dist_nm2', 'dt_nm2', 'vx_nm2',\n",
    "       'vy_nm2', 'speed_nm2', 'dt_nm1', 'dx_nm1', 'dy_nm1', 'dist_nm1',\n",
    "       'avg_speed', 'vx_nm1', 'vy_nm1', 'speed_nm1']\n",
    "pd.merge(targets,final_tn0[priors],left_index=True,right_index=True,how='outer').corr()['incenter_exit'].abs().sort_values(ascending=False)"
   ]
  },
  {
   "cell_type": "code",
   "execution_count": null,
   "metadata": {},
   "outputs": [],
   "source": [
    "#x_exit -  x_entry 0.783121, x_nm1 - 0.720306, x_nm2 - 0.686521, x_0  0.625893\n",
    "#        ,  incenter_entry - 0.489912, ratio_in 0.479\n",
    "#       -  , y_entry 0.263798 , y_nm1 - 0.240767, y_nm2 - 0.224722, \n",
    "#.      -  y_0 0.181784, net_dx - 0.113624, totalsecs_exit - 0.038642\n",
    "\n",
    "#y_exit -  y_entry 0.734019, y_nm1 - 0.660640, y_nm2 - 0.635616,  y_0 - 0.613635, \n",
    "#       - incenter_entry - 0.321814, ratio_in - 0.315254\n",
    "#       -  x_entry - 0.251824, x_nm1 - 0.228930, x_nm2 - 0.219261,  x_0 - 0.190885, net_dx - 0.048044, totalsecs_exit - 0.020937, dt - 0.018662\n",
    "\n",
    "#incenter_exit - incenter_entry - 0.715186, ratio_in - 0.669356,  x_entry - 0.492121, \n",
    "#.             - x_nm1 -0.449537, x_nm2 - 0.424332, , x0 - 0.344539,  \n",
    "#.             - y_entry - 0. 333567, y_nm1 -  0.300542, y_nm2 -  0.282230,  y0 - 0.235726,  \n",
    "#              - total_dt - 0.072345, t0 - 0.070367, \n",
    "#              - totalsecs_exit - 0.043013, totalsecs_entry - 0.029132\n",
    "\n",
    "bestfeatures = ['x_entry','y_entry','incenter_entry','x_nm1','x_nm2','y_nm1','y_nm2','total_dt','x_0','y_0']"
   ]
  },
  {
   "cell_type": "code",
   "execution_count": null,
   "metadata": {},
   "outputs": [],
   "source": [
    "#Kaggle Taxi Trajectory Prediction\n",
    "#https://www.kaggle.com/c/pkdd-15-predict-taxi-service-trajectory-i/discussion/14994#latest-83247\n",
    "#http://blog.kaggle.com/2015/07/27/taxi-trajectory-winners-interview-1st-place-team-%F0%9F%9A%95/\n",
    "#https://www.kaggle.com/c/pkdd-15-predict-taxi-service-trajectory-i/discussion/15020#latest-89300\n",
    "\n",
    "#use KNN to compare points to similar trips\n",
    "#kernel regression\n",
    "#aggregate last leg of journey\n",
    "#MLP\n",
    "#Gaussian Process\n",
    "#Kalman Filter\n",
    "#Hidden Markov Model https://datascience.stackexchange.com/questions/27709/how-to-classify-movement-data-time-series-in-real-time\n",
    "\n",
    "#https://datascience.stackexchange.com/questions/19392/using-time-series-data-from-a-sensor-for-ml/19394#19394\n",
    "#https://datascience.stackexchange.com/questions/18481/how-to-train-model-to-predict-events-30-minutes-prior-from-multi-dimensionnal-t/18483#18483\n",
    "\n",
    "#https://warwick.ac.uk/fac/cross_fac/complexity/study/emmcs/outcomes/studentprojects/gandhi.pdf\n",
    "#https://arxiv.org/pdf/1508.00021.pdf"
   ]
  }
 ],
 "metadata": {
  "kernelspec": {
   "display_name": "Python 3",
   "language": "python",
   "name": "python3"
  },
  "language_info": {
   "codemirror_mode": {
    "name": "ipython",
    "version": 3
   },
   "file_extension": ".py",
   "mimetype": "text/x-python",
   "name": "python",
   "nbconvert_exporter": "python",
   "pygments_lexer": "ipython3",
   "version": "3.7.3"
  }
 },
 "nbformat": 4,
 "nbformat_minor": 2
}
